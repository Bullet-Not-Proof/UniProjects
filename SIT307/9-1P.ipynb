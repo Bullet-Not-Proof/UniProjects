{
 "cells": [
  {
   "cell_type": "code",
   "execution_count": 91,
   "metadata": {},
   "outputs": [],
   "source": [
    "import numpy as np\n",
    "import pandas as pd\n",
    "from sklearn.metrics import *\n",
    "from sklearn.ensemble import RandomForestClassifier\n",
    "import matplotlib.pyplot as plt"
   ]
  },
  {
   "cell_type": "markdown",
   "metadata": {},
   "source": [
    "Load HR-Employee-Attrition.csv dataset and create an ensemble ML model for predicting target variable (Attrition). Report the performance of the model using appropriate metrics."
   ]
  },
  {
   "cell_type": "code",
   "execution_count": 107,
   "metadata": {},
   "outputs": [
    {
     "name": "stdout",
     "output_type": "stream",
     "text": [
      "{'bootstrap': True, 'ccp_alpha': 0.0, 'class_weight': None, 'criterion': 'gini', 'max_depth': None, 'max_features': 'auto', 'max_leaf_nodes': None, 'max_samples': None, 'min_impurity_decrease': 0.0, 'min_impurity_split': None, 'min_samples_leaf': 1, 'min_samples_split': 2, 'min_weight_fraction_leaf': 0.0, 'n_estimators': 75, 'n_jobs': None, 'oob_score': False, 'random_state': None, 'verbose': 0, 'warm_start': False}\n",
      "Training accuracy of SVM: 1.0\n",
      "Testing accuracy of SVM : 0.8503401360544217\n"
     ]
    }
   ],
   "source": [
    "data = pd.read_csv('HR-Employee-Attrition.csv', header=0)\n",
    "dataFrame = pd.DataFrame(data)\n",
    "\n",
    "dataMap = {'Yes':1, 'No':0,\n",
    "          'Non-Travel':0, 'Travel_Rarely':1, 'Travel_Frequently':2,\n",
    "          'Sales':0, 'Research & Development':1, 'Human Resources':2,\n",
    "          'Other':0, 'Life Sciences':1, 'Marketing':3, 'Technical Degree':4, 'Medical':5,\n",
    "          'Female':0, 'Male':1,\n",
    "          'Sales Executive':0, 'Research Scientist':1, 'Laboratory Technician':3, 'Manufacturing Director':4, 'Healthcare Representative':5, 'Manager':6, 'Sales Representative':7, 'Research Director':8,\n",
    "          'Single':0, 'Married':1, 'Divorced':2,\n",
    "          'Y':0}\n",
    "dataFrame = dataFrame.applymap(lambda s: dataMap.get(s) if s in dataMap else s)\n",
    "\n",
    "target = dataFrame[\"Attrition\"]\n",
    "dataFrame = dataFrame.drop(\"Attrition\", axis=1)\n",
    "\n",
    "xTrain, xTest, yTrain, yTest = train_test_split(dataFrame, target, test_size=.2, random_state=0)\n",
    "\n",
    "rfc = RandomForestClassifier(n_estimators=75)\n",
    "rfc.fit(xTrain, yTrain)\n",
    "\n",
    "yPred = rfc.predict(xTest)\n",
    "\n",
    "print(rfc.get_params())\n",
    "\n",
    "print(\"Training accuracy of SVM: {}\".format(metrics.accuracy_score(yTrain, rfc.predict(xTrain))))\n",
    "print(\"Testing accuracy of SVM : {}\".format(metrics.accuracy_score(yTest, rfc.predict(xTest))))"
   ]
  },
  {
   "cell_type": "markdown",
   "metadata": {},
   "source": [
    "Have you used any hyperparameter tuning while building the model in Q1? If so then plot your performance metrics for different hyperparmeter values that you have used in Q1.  Hints"
   ]
  },
  {
   "cell_type": "code",
   "execution_count": 104,
   "metadata": {},
   "outputs": [
    {
     "name": "stdout",
     "output_type": "stream",
     "text": [
      "---------------------------------------------------------------------------------------------------\n",
      "---------------------------------------------------------------------------------------------------"
     ]
    },
    {
     "data": {
      "image/png": "[encoded data removed]",
      "text/plain": [
       "<Figure size 432x288 with 1 Axes>"
      ]
     },
     "metadata": {
      "needs_background": "light"
     },
     "output_type": "display_data"
    },
    {
     "name": "stdout",
     "output_type": "stream",
     "text": [
      "the most best number of classifiers according to accuracy score is 75 with 0.8554421768707483\n"
     ]
    }
   ],
   "source": [
    "x = []\n",
    "y1 = []\n",
    "y2 = []\n",
    "print('-'*99)\n",
    "for i in range(1,100):\n",
    "    temp1 = 0\n",
    "    temp2 = 0\n",
    "    for j in range(10):\n",
    "        rfc = RandomForestClassifier(n_estimators=i)\n",
    "        rfc.fit(xTrain, yTrain)\n",
    "        \n",
    "        temp1 += metrics.accuracy_score(yTrain, rfc.predict(xTrain))\n",
    "        temp2 += metrics.accuracy_score(yTest, rfc.predict(xTest))\n",
    "    \n",
    "    x.append(i)\n",
    "    y1.append(temp1/10)\n",
    "    y2.append(temp2/10)\n",
    "    print('-', end='')\n",
    "    \n",
    "plt.plot(x, y1)\n",
    "plt.plot(x, y2)\n",
    "ax.legend(['Train', 'Test'])\n",
    "plt.show()\n",
    "\n",
    "bestTest = np.argmax(y2)\n",
    "bestTrain = np.argmax(y1)\n",
    "\n",
    "print(\"the most best number of classifiers according to accuracy score is \" + str(x[bestTest]) + \" with \" + str(y2[bestTest]))"
   ]
  },
  {
   "cell_type": "markdown",
   "metadata": {},
   "source": [
    "Reflect on the importance of hyperparameter tuning of ML models based on your ML model development exercise. "
   ]
  },
  {
   "cell_type": "markdown",
   "metadata": {},
   "source": [
    "hyper parameter tuning is important to get the most accurate training model as it can be used to avoid overfitting or underfitting depending on the exact parameters as both of those results can ruin any chance for the algorithm to be useful"
   ]
  },
  {
   "cell_type": "code",
   "execution_count": null,
   "metadata": {},
   "outputs": [],
   "source": []
  }
 ],
 "metadata": {
  "kernelspec": {
   "display_name": "Python 3",
   "language": "python",
   "name": "python3"
  },
  "language_info": {
   "codemirror_mode": {
    "name": "ipython",
    "version": 3
   },
   "file_extension": ".py",
   "mimetype": "text/x-python",
   "name": "python",
   "nbconvert_exporter": "python",
   "pygments_lexer": "ipython3",
   "version": "3.7.6"
  }
 },
 "nbformat": 4,
 "nbformat_minor": 4
}
