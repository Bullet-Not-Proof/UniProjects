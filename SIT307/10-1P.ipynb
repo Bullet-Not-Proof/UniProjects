{
 "cells": [
  {
   "cell_type": "code",
   "execution_count": 115,
   "metadata": {},
   "outputs": [],
   "source": [
    "import numpy as np\n",
    "import pandas as pd\n",
    "from sklearn.datasets import fetch_lfw_people\n",
    "from sklearn.neural_network import MLPClassifier"
   ]
  },
  {
   "cell_type": "markdown",
   "metadata": {},
   "source": [
    "Create a MLP model with 16 hidden layers using  \"fetch_lfw_people\" dataset from SKLearn and report performances using appropriate metrics. "
   ]
  },
  {
   "cell_type": "code",
   "execution_count": 128,
   "metadata": {},
   "outputs": [
    {
     "name": "stdout",
     "output_type": "stream",
     "text": [
      "Testing accuracy of mlp using relu and adam : 0.043067623724971665\n"
     ]
    }
   ],
   "source": [
    "def MLPclass(activation, solver, data):\n",
    "    mlp = MLPClassifier(solver=solver, activation=activation, hidden_layer_sizes=(2,2,2,2,2,2,2,2,2,2,2,2,2,2,2,2,))\n",
    "    xTrain, xTest, yTrain, yTest = train_test_split(data.data, data.target, test_size=.2, random_state=0)\n",
    "    \n",
    "    mlp.fit(xTrain, yTrain)\n",
    "    prediction = mlp.predict(xTest)\n",
    "    print(\"Accuracy of mlp using \" + activation + ' and ' + solver + \" : \" + str(metrics.accuracy_score(yTest, prediction)))\n",
    "\n",
    "dataset = fetch_lfw_people()\n",
    "\n",
    "MLPclass('relu', 'adam', dataset)"
   ]
  },
  {
   "cell_type": "markdown",
   "metadata": {},
   "source": [
    "Analyse impact of different activation function and solver on the model. Hints"
   ]
  },
  {
   "cell_type": "code",
   "execution_count": 130,
   "metadata": {},
   "outputs": [
    {
     "name": "stdout",
     "output_type": "stream",
     "text": [
      "Testing accuracy of mlp using identity and lbfgs : 0.043067623724971665\n",
      "Testing accuracy of mlp using identity and sgd : 0.043067623724971665\n",
      "Testing accuracy of mlp using identity and adam : 0.049867774839440875\n",
      "Testing accuracy of mlp using logistic and lbfgs : 0.043067623724971665\n"
     ]
    },
    {
     "name": "stderr",
     "output_type": "stream",
     "text": [
      "C:\\Users\\Tom.S\\anaconda3\\lib\\site-packages\\sklearn\\neural_network\\_multilayer_perceptron.py:571: ConvergenceWarning: Stochastic Optimizer: Maximum iterations (200) reached and the optimization hasn't converged yet.\n",
      "  % self.max_iter, ConvergenceWarning)\n"
     ]
    },
    {
     "name": "stdout",
     "output_type": "stream",
     "text": [
      "Testing accuracy of mlp using logistic and sgd : 0.043067623724971665\n",
      "Testing accuracy of mlp using logistic and adam : 0.043067623724971665\n",
      "Testing accuracy of mlp using tanh and lbfgs : 0.043067623724971665\n"
     ]
    },
    {
     "name": "stderr",
     "output_type": "stream",
     "text": [
      "C:\\Users\\Tom.S\\anaconda3\\lib\\site-packages\\sklearn\\neural_network\\_multilayer_perceptron.py:571: ConvergenceWarning: Stochastic Optimizer: Maximum iterations (200) reached and the optimization hasn't converged yet.\n",
      "  % self.max_iter, ConvergenceWarning)\n"
     ]
    },
    {
     "name": "stdout",
     "output_type": "stream",
     "text": [
      "Testing accuracy of mlp using tanh and sgd : 0.043067623724971665\n",
      "Testing accuracy of mlp using tanh and adam : 0.043067623724971665\n",
      "Testing accuracy of mlp using relu and lbfgs : 0.043067623724971665\n"
     ]
    },
    {
     "name": "stderr",
     "output_type": "stream",
     "text": [
      "C:\\Users\\Tom.S\\anaconda3\\lib\\site-packages\\sklearn\\neural_network\\_multilayer_perceptron.py:571: ConvergenceWarning: Stochastic Optimizer: Maximum iterations (200) reached and the optimization hasn't converged yet.\n",
      "  % self.max_iter, ConvergenceWarning)\n"
     ]
    },
    {
     "name": "stdout",
     "output_type": "stream",
     "text": [
      "Testing accuracy of mlp using relu and sgd : 0.043067623724971665\n",
      "Testing accuracy of mlp using relu and adam : 0.043067623724971665\n"
     ]
    }
   ],
   "source": [
    "for i in ['identity', 'logistic', 'tanh', 'relu']:\n",
    "    for j in ['lbfgs', 'sgd', 'adam']:\n",
    "        MLPclass(i, j, dataset)"
   ]
  },
  {
   "cell_type": "markdown",
   "metadata": {},
   "source": [
    "Explain your findings and report the best performance."
   ]
  },
  {
   "cell_type": "markdown",
   "metadata": {},
   "source": [
    "the best performance came from using identity activiation and adam solver but the accuracy increase is so marginal and the accuracy is incredibly low that i am pretty sure that i have done something wrong."
   ]
  },
  {
   "cell_type": "code",
   "execution_count": null,
   "metadata": {},
   "outputs": [],
   "source": []
  }
 ],
 "metadata": {
  "kernelspec": {
   "display_name": "Python 3",
   "language": "python",
   "name": "python3"
  },
  "language_info": {
   "codemirror_mode": {
    "name": "ipython",
    "version": 3
   },
   "file_extension": ".py",
   "mimetype": "text/x-python",
   "name": "python",
   "nbconvert_exporter": "python",
   "pygments_lexer": "ipython3",
   "version": "3.7.6"
  }
 },
 "nbformat": 4,
 "nbformat_minor": 4
}
