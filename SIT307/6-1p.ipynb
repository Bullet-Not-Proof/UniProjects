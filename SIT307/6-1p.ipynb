{
 "cells": [
  {
   "cell_type": "code",
   "execution_count": 51,
   "metadata": {},
   "outputs": [],
   "source": [
    "import numpy as np\n",
    "import pandas as pd\n",
    "from sklearn.metrics import *\n",
    "from sklearn.linear_model import *\n",
    "from sklearn.decomposition import PCA\n",
    "from sklearn.preprocessing import normalize\n",
    "from sklearn import datasets"
   ]
  },
  {
   "cell_type": "markdown",
   "metadata": {},
   "source": [
    "Download and read the \"Real estate valuation data set.xlsx\" dataset from the UCI repository. You can find the description of the features and targets on the UCI repository website. Split the dataset in train and test set (use your choice of splitting). Train a linear regression model and report the performance (use your choice of at least four performance metrics)"
   ]
  },
  {
   "cell_type": "code",
   "execution_count": 47,
   "metadata": {},
   "outputs": [
    {
     "name": "stdout",
     "output_type": "stream",
     "text": [
      "mean squared error is 0.008733803425883306\n",
      "max error is 0.6996312786186174\n",
      "mean absolute error is 0.05949888476743391\n",
      "r2 score is 0.44706619470583675\n"
     ]
    }
   ],
   "source": [
    "def splitFeature(data, splitter):\n",
    "    y = data[splitter]\n",
    "    x = data.drop(columns=splitter)\n",
    "    return y, x\n",
    "\n",
    "data = pd.read_csv('realEstateData.csv', header=0)\n",
    "dataFrame = pd.DataFrame(data)\n",
    "\n",
    "for i in dataFrame.columns:\n",
    "    dataFrame[i] = (dataFrame[i] - dataFrame[i].min()) / (dataFrame[i].max() - dataFrame[i].min())\n",
    "\n",
    "training = dataFrame.sample(frac = 0.7)\n",
    "test = dataFrame.drop(training.index)\n",
    "\n",
    "yTrain, xTrain = splitFeature(training, 'Y house price of unit area')\n",
    "yTest, xTest = splitFeature(test, 'Y house price of unit area')\n",
    "\n",
    "linReg = LinearRegression()\n",
    "linReg.fit(xTrain, yTrain)\n",
    "\n",
    "yPred = linReg.predict(xTest)\n",
    "\n",
    "print('mean squared error is '+str(mean_squared_error(yTest.values, yPred)))\n",
    "print('max error is '+str(max_error(yTest.values, yPred)))\n",
    "print('mean absolute error is '+str(mean_absolute_error(yTest.values, yPred)))\n",
    "print('r2 score is '+str(r2_score(yTest.values, yPred)))"
   ]
  },
  {
   "cell_type": "markdown",
   "metadata": {},
   "source": [
    "Apply PCA on the dataset and select the first three principal components. Split the dataset into train and test using the same method used in Q1. Compare the performance of this model with the performance obtained in Q1.  Explain the outcome."
   ]
  },
  {
   "cell_type": "code",
   "execution_count": 48,
   "metadata": {},
   "outputs": [
    {
     "name": "stdout",
     "output_type": "stream",
     "text": [
      "mean squared error is 0.08237485083505582\n",
      "max error is 0.6770526006778493\n",
      "mean absolute error is 0.24050314967659575\n",
      "r2 score is 0.0031045996620352456\n"
     ]
    }
   ],
   "source": [
    "pca = PCA(n_components=3)\n",
    "pca.fit(dataFrame.values)\n",
    "pcaData = pca.transform(dataFrame.values)\n",
    "\n",
    "pcaDataFrame = pd.DataFrame(pcaData)\n",
    "\n",
    "training = pcaDataFrame.sample(frac = 0.7)\n",
    "test = pcaDataFrame.drop(training.index)\n",
    "\n",
    "yTrain, xTrain = splitFeature(test, 2)\n",
    "yTest, xTest = splitFeature(test, 2)\n",
    "\n",
    "linReg = LinearRegression()\n",
    "linReg.fit(xTrain, yTrain)\n",
    "\n",
    "yPred = linReg.predict(xTest)\n",
    "\n",
    "print('mean squared error is '+str(mean_squared_error(yTest.values, yPred)))\n",
    "print('max error is '+str(max_error(yTest.values, yPred)))\n",
    "print('mean absolute error is '+str(mean_absolute_error(yTest.values, yPred)))\n",
    "print('r2 score is '+str(r2_score(yTest.values, yPred)))"
   ]
  },
  {
   "cell_type": "markdown",
   "metadata": {},
   "source": [
    "Load \"IRIS \" datasets from SKlearn and follow this link for the data description (features and target variable). Apply PCA on the dataset and select the first three principal components. Split the dataset in train and test set (use your choice of splitting). Train a logistic regression model and report the performance (use your choice of at least 4 performance metric)."
   ]
  },
  {
   "cell_type": "code",
   "execution_count": 111,
   "metadata": {},
   "outputs": [
    {
     "name": "stdout",
     "output_type": "stream",
     "text": [
      "mean squared error is 0.2\n",
      "max error is 1\n",
      "accuracy score is 0.8\n",
      "r2 score is 0.605263157894737\n"
     ]
    }
   ],
   "source": [
    "iris = datasets.load_iris()\n",
    "iris.data = pd.DataFrame(iris.data)\n",
    "iris.target = pd.DataFrame(iris.target)\n",
    "irisPCA = pd.DataFrame(PCA(n_components=3).fit_transform(iris.data))\n",
    "\n",
    "xTrain = irisPCA.sample(frac = 0.7)\n",
    "yTrain = iris.target.loc[xTrain.index]\n",
    "\n",
    "xTest = irisPCA.drop(xTrain.index)\n",
    "true = iris.target.loc[test.index]\n",
    "\n",
    "logReg = LogisticRegression(penalty = 'none')\n",
    "logReg.fit(xTrain, np.ravel(yTrain))\n",
    "\n",
    "yPred = logReg.predict(xTest)\n",
    "\n",
    "print('mean squared error is '+str(mean_squared_error(true[0].values, yPred)))\n",
    "print('max error is '+str(max_error(true[0].values, yPred)))\n",
    "print('accuracy score is '+str(accuracy_score(true[0].values, yPred)))\n",
    "print('r2 score is '+str(r2_score(true[0].values, yPred)))"
   ]
  },
  {
   "cell_type": "markdown",
   "metadata": {},
   "source": [
    "Apply L1 or L2 regulariser on the logistic regression model developed using the same train and test data used in Q3 and calculate performance of the new model. Compare performance of this model with the performance reported in Q3. Explain the outcome."
   ]
  },
  {
   "cell_type": "code",
   "execution_count": 112,
   "metadata": {},
   "outputs": [
    {
     "name": "stdout",
     "output_type": "stream",
     "text": [
      "mean squared error is 0.2\n",
      "max error is 1\n",
      "accuracy score is 0.8\n",
      "r2 score is 0.605263157894737\n"
     ]
    }
   ],
   "source": [
    "logRegl2 = LogisticRegression(penalty = 'l2')\n",
    "logRegl2.fit(xTrain, np.ravel(yTrain))\n",
    "\n",
    "yPred = np.ravel(logRegl2.predict(xTest))\n",
    "\n",
    "print('mean squared error is '+str(mean_squared_error(true[0].values, yPred)))\n",
    "print('max error is '+str(max_error(true[0].values, yPred)))\n",
    "print('accuracy score is '+str(accuracy_score(true[0].values, yPred)))\n",
    "print('r2 score is '+str(r2_score(true[0].values, yPred)))"
   ]
  },
  {
   "cell_type": "code",
   "execution_count": null,
   "metadata": {},
   "outputs": [],
   "source": []
  }
 ],
 "metadata": {
  "kernelspec": {
   "display_name": "Python 3",
   "language": "python",
   "name": "python3"
  },
  "language_info": {
   "codemirror_mode": {
    "name": "ipython",
    "version": 3
   },
   "file_extension": ".py",
   "mimetype": "text/x-python",
   "name": "python",
   "nbconvert_exporter": "python",
   "pygments_lexer": "ipython3",
   "version": "3.7.6"
  }
 },
 "nbformat": 4,
 "nbformat_minor": 4
}
